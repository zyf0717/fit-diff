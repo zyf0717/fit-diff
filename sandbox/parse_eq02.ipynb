{
 "cells": [
  {
   "cell_type": "code",
   "execution_count": null,
   "id": "8483164b",
   "metadata": {},
   "outputs": [],
   "source": [
    "import pandas as pd"
   ]
  },
  {
   "cell_type": "code",
   "execution_count": null,
   "id": "46e83f36",
   "metadata": {},
   "outputs": [],
   "source": [
    "df = pd.read_csv(\"./data/20250904_eq02.csv\")\n",
    "df.head()"
   ]
  },
  {
   "cell_type": "code",
   "execution_count": null,
   "id": "6569ce61",
   "metadata": {},
   "outputs": [],
   "source": [
    "df_hr = df.iloc[:, [0, 1, 4]].copy()\n",
    "df_hr.columns = [\"date\", \"time\", \"heart_rate\"]\n",
    "df_hr = df_hr.dropna().reset_index(drop=True)\n",
    "df_hr = df_hr[df_hr[\"heart_rate\"] != 0].reset_index(drop=True)\n",
    "df_hr"
   ]
  },
  {
   "cell_type": "code",
   "execution_count": null,
   "id": "d0714717",
   "metadata": {},
   "outputs": [],
   "source": [
    "df_hr_format = df_hr.copy()\n",
    "df_hr_format[\"time\"] = df_hr_format[\"time\"].str.split(\".\").str[0].str.zfill(8)\n",
    "df_hr_format[\"timestamp\"] = pd.to_datetime(df_hr_format[\"date\"] + \" \" + df_hr_format[\"time\"], format=\"%d/%m/%Y %H:%M:%S\")\n",
    "\n",
    "df_hr_format = df_hr_format[[\"timestamp\", \"heart_rate\"]]\n",
    "\n",
    "df_hr_format"
   ]
  },
  {
   "cell_type": "code",
   "execution_count": null,
   "id": "4eb10272",
   "metadata": {},
   "outputs": [],
   "source": [
    "df_hr_format.to_csv(\"./data/20250904_eq02_hr.csv\", index=False)"
   ]
  },
  {
   "cell_type": "code",
   "execution_count": null,
   "id": "7af11554",
   "metadata": {},
   "outputs": [],
   "source": []
  }
 ],
 "metadata": {
  "kernelspec": {
   "display_name": "fit-diff",
   "language": "python",
   "name": "python3"
  },
  "language_info": {
   "codemirror_mode": {
    "name": "ipython",
    "version": 3
   },
   "file_extension": ".py",
   "mimetype": "text/x-python",
   "name": "python",
   "nbconvert_exporter": "python",
   "pygments_lexer": "ipython3",
   "version": "3.12.10"
  }
 },
 "nbformat": 4,
 "nbformat_minor": 5
}
