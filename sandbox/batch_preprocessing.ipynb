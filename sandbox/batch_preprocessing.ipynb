{
 "cells": [
  {
   "cell_type": "code",
   "execution_count": null,
   "id": "48e86205",
   "metadata": {},
   "outputs": [],
   "source": [
    "import asyncio\n",
    "import aioboto3\n",
    "from botocore.exceptions import NoCredentialsError, ClientError\n",
    "import pandas as pd"
   ]
  },
  {
   "cell_type": "code",
   "execution_count": null,
   "id": "0ca473ae",
   "metadata": {},
   "outputs": [],
   "source": [
    "import sys\n",
    "from pathlib import Path\n",
    "\n",
    "# Add the parent directory (repo root) to Python path\n",
    "repo_root = Path.cwd().parent\n",
    "sys.path.insert(0, str(repo_root))\n",
    "\n",
    "# Force reload the module to get the latest version\n",
    "import importlib\n",
    "import src.utils.data_processing\n",
    "\n",
    "importlib.reload(src.utils.data_processing)\n",
    "\n",
    "from src.utils.data_processing import (\n",
    "    process_file,\n",
    "    prepare_data_for_analysis,\n",
    "    process_multiple_files,\n",
    ")"
   ]
  },
  {
   "cell_type": "code",
   "execution_count": null,
   "id": "e20f01c7",
   "metadata": {},
   "outputs": [],
   "source": [
    "async def list_s3_fit_files(bucket_name=\"project-traco-benchmarking\",\n",
    "                           prefix=\"fit_files/\",\n",
    "                           profile_name=\"project-traco\"):\n",
    "    \"\"\"\n",
    "    List all .fit files from S3 bucket using aioboto3\n",
    "    \"\"\"\n",
    "    fit_files = []\n",
    "    session = aioboto3.Session(profile_name=profile_name)\n",
    "\n",
    "    try:\n",
    "        async with session.client('s3') as s3:\n",
    "            paginator = s3.get_paginator('list_objects_v2')\n",
    "            page_iterator = paginator.paginate(Bucket=bucket_name, Prefix=prefix)\n",
    "\n",
    "            async for page in page_iterator:\n",
    "                if 'Contents' in page:\n",
    "                    for obj in page['Contents']:\n",
    "                        key = obj['Key']\n",
    "                        if key.lower().endswith('.fit'):\n",
    "                            # ETag is typically the MD5 hash, but remove quotes if present\n",
    "                            etag = obj.get('ETag', '').strip('\"')\n",
    "\n",
    "                            fit_files.append({\n",
    "                                'key': key,\n",
    "                                'filename': key.split('/')[-1],\n",
    "                                'size_mb': round(obj['Size'] / (1024 * 1024), 2),\n",
    "                                'last_modified': obj['LastModified'],\n",
    "                                'etag': etag  # MD5 hash from S3 ETag\n",
    "                            })\n",
    "\n",
    "    except NoCredentialsError:\n",
    "        print(\"Error: AWS credentials not found. Make sure your profile is configured correctly.\")\n",
    "        return []\n",
    "    except ClientError as e:\n",
    "        print(f\"Error accessing S3: {e}\")\n",
    "        return []\n",
    "    except Exception as e:\n",
    "        print(f\"Unexpected error: {e}\")\n",
    "        return []\n",
    "\n",
    "    return sorted(fit_files, key=lambda x: x['key'])\n",
    "\n",
    "# Run the async function and list all .fit files\n",
    "fit_files = await list_s3_fit_files()\n",
    "\n",
    "print(f\"Found {len(fit_files)} .fit files in s3://project-traco-benchmarking/fit_files/\")\n",
    "print(\"=\" * 80)\n",
    "\n",
    "for i, file_info in enumerate(fit_files, 1):\n",
    "    print(f\"{i:3d}. {file_info['filename']}\")\n",
    "    print(f\"     Path: {file_info['key']}\")\n",
    "    print(f\"     Size: {file_info['size_mb']} MB\")\n",
    "    print(f\"     etag: {file_info['etag']}\")\n",
    "    print(f\"     Modified: {file_info['last_modified']}\")\n",
    "    print()\n",
    "\n",
    "if fit_files:\n",
    "    total_size = sum(f['size_mb'] for f in fit_files)\n",
    "    print(\"=\" * 80)\n",
    "    print(f\"Total: {len(fit_files)} files, {total_size:.2f} MB\")"
   ]
  },
  {
   "cell_type": "code",
   "execution_count": null,
   "id": "a8555bcb",
   "metadata": {},
   "outputs": [],
   "source": [
    "# Test with a single S3 file (using first file from our list)\n",
    "if fit_files:\n",
    "    first_file = fit_files[0]\n",
    "    s3_url = f\"s3://project-traco-benchmarking/{first_file['key']}\"\n",
    "\n",
    "    print(f\"Testing S3 file processing with: {s3_url}\")\n",
    "    print(\"This will download the file temporarily and process it...\")\n",
    "\n",
    "    try:\n",
    "        df_dict = process_file(s3_url, aws_profile=\"project-traco\")\n",
    "\n",
    "        print(f\"\\nSuccess! Processed file: {first_file['filename']}\")\n",
    "        print(f\"Session data shape: {df_dict['session'].shape}\")\n",
    "        print(f\"Record data shape: {df_dict['records'].shape}\")\n",
    "        print(f\"Available columns: {list(df_dict['records'].columns)}\")\n",
    "\n",
    "        # Show a sample of the data\n",
    "        print(f\"\\nFirst 3 records:\")\n",
    "        print(df_dict['records'].head(3))\n",
    "\n",
    "    except Exception as e:\n",
    "        print(f\"Error: {e}\")\n",
    "else:\n",
    "    print(\"No files available to test\")"
   ]
  },
  {
   "cell_type": "code",
   "execution_count": null,
   "id": "4e3037af",
   "metadata": {},
   "outputs": [],
   "source": [
    "all_fit_data = process_multiple_files(\n",
    "    [f\"s3://project-traco-benchmarking/{f['key']}\" for f in fit_files],\n",
    "    aws_profile=\"project-traco\"\n",
    ")\n",
    "\n",
    "len(all_fit_data)"
   ]
  },
  {
   "cell_type": "code",
   "execution_count": null,
   "id": "bdd8e7a3",
   "metadata": {},
   "outputs": [],
   "source": [
    "all_fit_data[0]['file_id']"
   ]
  },
  {
   "cell_type": "code",
   "execution_count": null,
   "id": "4822a617",
   "metadata": {},
   "outputs": [],
   "source": [
    "# All data with the product_name \"Polar Pacer\"\n",
    "polar_pacer_data = [\n",
    "    d for d in all_fit_data if \"product_name\" in d[\"file_id\"] and d[\"file_id\"][\"product_name\"][0] == \"Polar Pacer\"\n",
    "]\n",
    "\n",
    "len(polar_pacer_data)"
   ]
  },
  {
   "cell_type": "code",
   "execution_count": null,
   "id": "237bf696",
   "metadata": {},
   "outputs": [],
   "source": [
    "catalogue_df = pd.DataFrame(fit_files)\n",
    "catalogue_df['device_type'] = catalogue_df['filename'].apply(lambda x: 'test' if 'pacer' in x else 'ref')\n",
    "\n",
    "catalogue_df[\"tags\"] = catalogue_df[\"key\"].apply(\n",
    "    lambda x: [x.split(\"/\")[1]] if len(x.split(\"/\")) > 1 else \"unknown\"\n",
    ")\n",
    "\n",
    "catalogue_df = catalogue_df[['etag', 'key','size_mb', 'device_type', 'tags']]\n",
    "\n",
    "catalogue_df"
   ]
  },
  {
   "cell_type": "code",
   "execution_count": null,
   "id": "04c2b637",
   "metadata": {},
   "outputs": [],
   "source": []
  }
 ],
 "metadata": {
  "kernelspec": {
   "display_name": "fit-diff",
   "language": "python",
   "name": "python3"
  },
  "language_info": {
   "codemirror_mode": {
    "name": "ipython",
    "version": 3
   },
   "file_extension": ".py",
   "mimetype": "text/x-python",
   "name": "python",
   "nbconvert_exporter": "python",
   "pygments_lexer": "ipython3",
   "version": "3.12.10"
  }
 },
 "nbformat": 4,
 "nbformat_minor": 5
}
